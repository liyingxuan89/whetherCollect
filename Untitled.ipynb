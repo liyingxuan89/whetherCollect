{
 "cells": [
  {
   "cell_type": "code",
   "execution_count": 1,
   "metadata": {
    "collapsed": true
   },
   "outputs": [],
   "source": [
    "import urllib\n",
    "import urllib2\n",
    "import sys\n",
    "import os\n",
    "from lxml import etree\n",
    "import pandas as pd\n",
    "import numpy as np"
   ]
  },
  {
   "cell_type": "code",
   "execution_count": 14,
   "metadata": {
    "collapsed": true
   },
   "outputs": [],
   "source": [
    "def parser(html):\n",
    "\n",
    "    content = etree.HTML(html)\n",
    "    pattern = '//div[@class=\"observation-table\"]'\n",
    "\n",
    "    head = pattern + \"//thead\"\n",
    "    body = pattern + \"//tbody\"\n",
    "\n",
    "    data = content.xpath('//div[@class=\"observation-table\"]//tbody')\n",
    "\n",
    "    return data"
   ]
  },
  {
   "cell_type": "code",
   "execution_count": 12,
   "metadata": {
    "collapsed": true
   },
   "outputs": [],
   "source": [
    "class whetherCollect(object):\n",
    "   \n",
    "    def __init__(self, city, timeList, parser):\n",
    "\n",
    "        self.city = city\n",
    "        self.time = timeList\n",
    "        self.parser = parser\n",
    "        self.url = \"https://www.wunderground.com/history/monthly/cn/\" + self.city + \"/date/\"\n",
    "        self.headers = {\n",
    "        \"user-agent\": \"Mozilla/5.0 (Macintosh; Intel Mac OS X 10_13_2) AppleWebKit/537.36 (KHTML, like Gecko) Chrome/69.0.3497.100 Safari/537.36\",\n",
    "\n",
    "        }\n",
    "\n",
    "    def dataSaver(self, savePath):\n",
    "\n",
    "        data = 0\n",
    "\n",
    "        with open(savePath, 'w') as f:\n",
    "            f.write(data)\n",
    "\n",
    "\n",
    "    def download(self):\n",
    "\n",
    "        for year in self.time:\n",
    "            realUrls = [self.url + str(year) + \"-\" + str(x) for x in range(1,2)]\n",
    "            for url in realUrls:\n",
    "                request = urllib2.Request(url, headers=self.headers)\n",
    "                response = urllib2.urlopen(request)\n",
    "                html =  response.read()\n",
    "                data = self.parser(html)\n",
    "                print data\n"
   ]
  },
  {
   "cell_type": "code",
   "execution_count": null,
   "metadata": {
    "collapsed": true
   },
   "outputs": [],
   "source": [
    "whether = whetherCollect('chengdu', [2018], parser)\n",
    "whether.download()"
   ]
  },
  {
   "cell_type": "code",
   "execution_count": 30,
   "metadata": {
    "collapsed": false
   },
   "outputs": [],
   "source": [
    "url = \"https://www.wunderground.com/history/monthly/cn/chengdu/date/2018-7\"\n",
    "headers = {\n",
    "        \"user-agent\": \"Mozilla/5.0 (Macintosh; Intel Mac OS X 10_13_2) AppleWebKit/537.36 (KHTML, like Gecko) Chrome/69.0.3497.100 Safari/537.36\",\n",
    "        \"cookie\": \"IDE=AHWqTUkqAIg8teLTzWhYtVM_G9SVODiLBMehAVtPafd82j6mlnAyjLccB6uISsMq;DSID=ADyxuktt8k1vFlKC50v2F1PHm9n5EHaQaFjMA4D4imJCC3lnSf7cjkhlnpaktA44f7KVK6rsFSmm2bZ2olcNGRkGRU9j_qttPyPeXiFDXdWkBcKNuETDVqA\",\n",
    "        \"scheme\": \"https\",\n",
    "        \"accept\": \"text/html,application/xhtml+xml,application/xml;q=0.9,image/webp,image/apng,*/*;q=0.8\",\n",
    "        \"accept-language\": \"en-US,en;q=0.9\",\n",
    "        \"cache-control\": \"max-age=0\",\n",
    "        \"upgrade-insecure-requests\": \"1\"\n",
    "        }\n",
    "request = urllib2.Request(url,headers=headers)\n",
    "res = urllib2.urlopen(request)\n",
    "html = res.read()\n",
    "with open('a.html', 'w') as f:\n",
    "    f.write(html)\n",
    "content = etree.HTML(html)\n",
    "#print content.xpath('//td/text()')"
   ]
  },
  {
   "cell_type": "code",
   "execution_count": null,
   "metadata": {
    "collapsed": true
   },
   "outputs": [],
   "source": []
  }
 ],
 "metadata": {
  "kernelspec": {
   "display_name": "Python 2",
   "language": "python",
   "name": "python2"
  },
  "language_info": {
   "codemirror_mode": {
    "name": "ipython",
    "version": 2
   },
   "file_extension": ".py",
   "mimetype": "text/x-python",
   "name": "python",
   "nbconvert_exporter": "python",
   "pygments_lexer": "ipython2",
   "version": "2.7.10rc1"
  }
 },
 "nbformat": 4,
 "nbformat_minor": 1
}
